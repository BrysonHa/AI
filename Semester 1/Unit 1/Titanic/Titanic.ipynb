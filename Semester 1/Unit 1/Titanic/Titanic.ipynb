{
 "cells": [
  {
   "cell_type": "markdown",
   "id": "9e4be17b-c2d9-438e-887d-32a919735441",
   "metadata": {},
   "source": [
    "#Question: What percentage of male first-class passengers survived?\n",
    "\n",
    "We are conducting a retrospective observational census. We are conducting the study through a census because it allows us to have access to all the data, leading to better results. The data I am using is not complete, which may lead to biases. Furthermore, I don't know how the data was collected, so there may have been bias in the data collection as well."
   ]
  },
  {
   "cell_type": "code",
   "execution_count": 6,
   "id": "608c734d-acff-4f05-a23a-de75d8a2c766",
   "metadata": {},
   "outputs": [],
   "source": [
    "import pandas"
   ]
  },
  {
   "cell_type": "code",
   "execution_count": 7,
   "id": "c52bbf54-86ad-46b9-beee-08da7e058d49",
   "metadata": {},
   "outputs": [],
   "source": [
    "df = pandas.read_csv('titanic.csv')"
   ]
  },
  {
   "cell_type": "code",
   "execution_count": 8,
   "id": "63acdd4b-7d28-4901-836e-9bd5f2543105",
   "metadata": {},
   "outputs": [
    {
     "name": "stdout",
     "output_type": "stream",
     "text": [
      "45\n"
     ]
    }
   ],
   "source": [
    "survived = len(df[(df[\"Pclass\"] == 1) & (df[\"Sex\"] == \"male\") & (df[\"Survived\"] == 1)])\n",
    "print(survived)"
   ]
  },
  {
   "cell_type": "code",
   "execution_count": 9,
   "id": "5f43e1ae-c3ab-4450-a077-584383803796",
   "metadata": {},
   "outputs": [
    {
     "name": "stdout",
     "output_type": "stream",
     "text": [
      "77\n"
     ]
    }
   ],
   "source": [
    "died = len(df[(df[\"Pclass\"] == 1) & (df[\"Sex\"] == \"male\") & (df[\"Survived\"] == 0)])\n",
    "print(died)"
   ]
  },
  {
   "cell_type": "code",
   "execution_count": 10,
   "id": "969168da-cb32-49b0-a244-68c8bd920c23",
   "metadata": {},
   "outputs": [
    {
     "data": {
      "text/plain": [
       "'0.5844155844155844%'"
      ]
     },
     "execution_count": 10,
     "metadata": {},
     "output_type": "execute_result"
    }
   ],
   "source": [
    "str(survived / died) + \"%\""
   ]
  },
  {
   "cell_type": "markdown",
   "id": "e7351ac6-022e-40bd-aec8-07e4a0b38887",
   "metadata": {},
   "source": [
    "45 out of 77 male first-class passengers survived the sinking of the Titanic, giving a survival rate of 58.442%. Some possible sources of bias may be the unknown origins of the data and the incomplete data set, possibly leading to skewed data"
   ]
  }
 ],
 "metadata": {
  "kernelspec": {
   "display_name": "anaconda-ai-2024.04-py310",
   "language": "python",
   "name": "conda-env-anaconda-ai-2024.04-py310-py"
  },
  "language_info": {
   "codemirror_mode": {
    "name": "ipython",
    "version": 3
   },
   "file_extension": ".py",
   "mimetype": "text/x-python",
   "name": "python",
   "nbconvert_exporter": "python",
   "pygments_lexer": "ipython3",
   "version": "3.10.13"
  }
 },
 "nbformat": 4,
 "nbformat_minor": 5
}
