{
 "cells": [
  {
   "cell_type": "markdown",
   "id": "cb040ea2",
   "metadata": {},
   "source": [
    "#Question: What percentage of first class passengers survived?"
   ]
  },
  {
   "cell_type": "code",
   "execution_count": null,
   "id": "608c734d-acff-4f05-a23a-de75d8a2c766",
   "metadata": {},
   "outputs": [],
   "source": [
    "import pandas\n",
    "\n",
    "df = pandas.read_csv('titanic.csv')\n",
    "\n",
    "colums = df.columns.to_list()\n",
    "\n",
    "print(colums)\n",
    "\n",
    "pClass = df.Pclass.to_list()\n",
    "pSurvived = df.Survived.to_list()\n",
    "pName = df.Name.to_list()\n",
    "\n",
    "survived = 0\n",
    "died = 0.0\n",
    "\n",
    "for i in range(len(pClass)):\n",
    "    pC = pClass[i]\n",
    "    pS = pSurvived[i]\n",
    "    pN = pName[i]\n",
    "\n",
    "    if pC == 1:\n",
    "        if pS == 1:\n",
    "            survived += 1\n",
    "            print(pN + \" survived\")\n",
    "        else:\n",
    "            died += 1\n",
    "\n",
    "\n",
    "print(survived/died*100)"
   ]
  },
  {
   "cell_type": "code",
   "execution_count": 11,
   "id": "bf93ac44",
   "metadata": {},
   "outputs": [
    {
     "name": "stdout",
     "output_type": "stream",
     "text": [
      "891\n",
      "PassengerId                          7\n",
      "Survived                             0\n",
      "Pclass                               1\n",
      "Name           McCarthy, Mr. Timothy J\n",
      "Sex                               male\n",
      "Age                               54.0\n",
      "SibSp                                0\n",
      "Parch                                0\n",
      "Ticket                           17463\n",
      "Fare                           51.8625\n",
      "Cabin                              E46\n",
      "Embarked                             S\n",
      "Name: 6, dtype: object\n",
      "\n",
      "\n",
      "\n",
      "Embarked From Queensland: \n",
      "     PassengerId  Survived  Pclass                                  Name  \\\n",
      "5              6         0       3                      Moran, Mr. James   \n",
      "16            17         0       3                  Rice, Master. Eugene   \n",
      "22            23         1       3           McGowan, Miss. Anna \"Annie\"   \n",
      "28            29         1       3         O'Dwyer, Miss. Ellen \"Nellie\"   \n",
      "32            33         1       3              Glynn, Miss. Mary Agatha   \n",
      "..           ...       ...     ...                                   ...   \n",
      "790          791         0       3              Keane, Mr. Andrew \"Andy\"   \n",
      "825          826         0       3                       Flynn, Mr. John   \n",
      "828          829         1       3          McCormack, Mr. Thomas Joseph   \n",
      "885          886         0       3  Rice, Mrs. William (Margaret Norton)   \n",
      "890          891         0       3                   Dooley, Mr. Patrick   \n",
      "\n",
      "        Sex   Age  SibSp  Parch  Ticket     Fare Cabin Embarked  \n",
      "5      male   NaN      0      0  330877   8.4583   NaN        Q  \n",
      "16     male   2.0      4      1  382652  29.1250   NaN        Q  \n",
      "22   female  15.0      0      0  330923   8.0292   NaN        Q  \n",
      "28   female   NaN      0      0  330959   7.8792   NaN        Q  \n",
      "32   female   NaN      0      0  335677   7.7500   NaN        Q  \n",
      "..      ...   ...    ...    ...     ...      ...   ...      ...  \n",
      "790    male   NaN      0      0   12460   7.7500   NaN        Q  \n",
      "825    male   NaN      0      0  368323   6.9500   NaN        Q  \n",
      "828    male   NaN      0      0  367228   7.7500   NaN        Q  \n",
      "885  female  39.0      0      5  382652  29.1250   NaN        Q  \n",
      "890    male  32.0      0      0  370376   7.7500   NaN        Q  \n",
      "\n",
      "[77 rows x 12 columns]\n"
     ]
    }
   ],
   "source": [
    "import pandas\n",
    "\n",
    "df = pandas.read_csv('titanic.csv')\n",
    "\n",
    "numSamples = df.shape[0]\n",
    "print(numSamples)\n",
    "\n",
    "print(df.iloc[6])\n",
    "print(\"\\n\\n\\nEmbarked From Queensland: \")\n",
    "\n",
    "print(df[df[\"Embarked\"] == \"Q\"])"
   ]
  }
 ],
 "metadata": {
  "kernelspec": {
   "display_name": "Python 3",
   "language": "python",
   "name": "python3"
  },
  "language_info": {
   "codemirror_mode": {
    "name": "ipython",
    "version": 3
   },
   "file_extension": ".py",
   "mimetype": "text/x-python",
   "name": "python",
   "nbconvert_exporter": "python",
   "pygments_lexer": "ipython3",
   "version": "3.13.7"
  }
 },
 "nbformat": 4,
 "nbformat_minor": 5
}
