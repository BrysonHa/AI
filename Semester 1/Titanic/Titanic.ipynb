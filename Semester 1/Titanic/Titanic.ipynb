{
 "cells": [
  {
   "cell_type": "markdown",
   "id": "cb040ea2",
   "metadata": {},
   "source": [
    "#Question: What percentage of first class passengers survived?"
   ]
  },
  {
   "cell_type": "code",
   "execution_count": 9,
   "id": "608c734d-acff-4f05-a23a-de75d8a2c766",
   "metadata": {},
   "outputs": [
    {
     "name": "stdout",
     "output_type": "stream",
     "text": [
      "['PassengerId', 'Survived', 'Pclass', 'Name', 'Sex', 'Age', 'SibSp', 'Parch', 'Ticket', 'Fare', 'Cabin', 'Embarked']\n",
      "Snyder, Mrs. John Pillsbury (Nelle Stevenson) survived\n",
      "Chaffee, Mrs. Herbert Fuller (Carrie Constance Toogood) survived\n",
      "Flegenheim, Mrs. Alfred (Antoinette) survived\n",
      "Ryerson, Mrs. Arthur Larned (Emily Maria Borie) survived\n",
      "Ostby, Miss. Helene Ragnhild survived\n",
      "Kimball, Mrs. Edwin Nelson Jr (Gertrude Parsons) survived\n",
      "Bucknell, Mrs. William Robert (Emma Eliza Ward) survived\n",
      "Fortune, Miss. Ethel Flora survived\n",
      "Chaudanson, Miss. Victorine survived\n",
      "Fortune, Mrs. Mark (Mary McDougald) survived\n",
      "Geiger, Miss. Amalie survived\n",
      "Cornell, Mrs. Robert Clifford (Malvina Helen Lamson) survived\n",
      "Davidson, Mrs. Thornton (Orian Hays) survived\n",
      "Cavendish, Mrs. Tyrell William (Julia Florence Siegel) survived\n",
      "Stengel, Mrs. Charles Emil Henry (Annie May Morris) survived\n",
      "Evans, Miss. Edith Corse survived\n",
      "Straus, Mrs. Isidor (Rosalie Ida Blun) survived\n",
      "Schabert, Mrs. Paul (Emma Mock) survived\n",
      "Daniels, Miss. Sarah survived\n",
      "Earnshaw, Mrs. Boulton (Olive Potter) survived\n",
      "Bird, Miss. Ellen survived\n",
      "Cassebeer, Mrs. Henry Arthur Jr (Eleanor Genevieve Fosdick) survived\n",
      "Compton, Mrs. Alexander Taylor (Mary Eliza Ingersoll) survived\n",
      "Marvin, Mrs. Daniel Warner (Mary Graham Carmichael Farquarson) survived\n",
      "Douglas, Mrs. Frederick Charles (Mary Helene Baxter) survived\n",
      "Rosenbaum, Miss. Edith Louise survived\n",
      "Widener, Mrs. George Dunton (Eleanor Elkins) survived\n",
      "Candee, Mrs. Edward (Helen Churchill Hungerford) survived\n",
      "Willard, Miss. Constance survived\n",
      "Douglas, Mrs. Walter Donald (Mahala Dutton) survived\n",
      "Lindstrom, Mrs. Carl Johan (Sigrid Posse) survived\n",
      "Clark, Mrs. Walter Miller (Virginia McDowell) survived\n",
      "Crosby, Mrs. Edward Gifford (Catherine Elizabeth Halstead) survived\n",
      "White, Mrs. John Stuart (Ella Holmes) survived\n",
      "Kreuchen, Miss. Emilie survived\n",
      "Cardeza, Mrs. James Warburton Martinez (Charlotte Wardle Drake) survived\n",
      "Greenfield, Mrs. Leo David (Blanche Strouse) survived\n",
      "Brown, Mrs. John Murray (Caroline Lane Lamson) survived\n",
      "Harder, Mrs. George Achilles (Dorothy Annan) survived\n",
      "Gibson, Mrs. Leonard (Pauline C Boeson) survived\n",
      "Wilson, Miss. Helen Alice survived\n",
      "Dodge, Mrs. Washington (Ruth Vidaver) survived\n",
      "Bowen, Miss. Grace Scott survived\n",
      "Lines, Mrs. Ernest H (Elizabeth Lindsey James) survived\n",
      "Smith, Mrs. Lucien Philip (Mary Eloise Hughes) survived\n",
      "Frolicher-Stehli, Mrs. Maxmillian (Margaretha Emerentia Stehli) survived\n",
      "Bonnell, Miss. Caroline survived\n",
      "Gibson, Miss. Dorothy Winifred survived\n",
      "Minahan, Mrs. William Edward (Lillian E Thorpe) survived\n",
      "Oliva y Ocana, Dona. Fermina survived\n",
      "87.71929824561403\n"
     ]
    }
   ],
   "source": [
    "import pandas\n",
    "\n",
    "df = pandas.read_csv('titanicPassengers.csv')\n",
    "\n",
    "colums = df.columns.to_list()\n",
    "\n",
    "print(colums)\n",
    "\n",
    "pClass = df.Pclass.to_list()\n",
    "pSurvived = df.Survived.to_list()\n",
    "pName = df.Name.to_list()\n",
    "\n",
    "survived = 0\n",
    "died = 0.0\n",
    "\n",
    "for i in range(len(pClass)):\n",
    "    pC = pClass[i]\n",
    "    pS = pSurvived[i]\n",
    "    pN = pName[i]\n",
    "\n",
    "    if pC == 1:\n",
    "        if pS == 1:\n",
    "            survived += 1\n",
    "            print(pN + \" survived\")\n",
    "        else:\n",
    "            died += 1\n",
    "\n",
    "\n",
    "print(survived/died*100)"
   ]
  }
 ],
 "metadata": {
  "kernelspec": {
   "display_name": "Python 3",
   "language": "python",
   "name": "python3"
  },
  "language_info": {
   "codemirror_mode": {
    "name": "ipython",
    "version": 3
   },
   "file_extension": ".py",
   "mimetype": "text/x-python",
   "name": "python",
   "nbconvert_exporter": "python",
   "pygments_lexer": "ipython3",
   "version": "3.13.7"
  }
 },
 "nbformat": 4,
 "nbformat_minor": 5
}
