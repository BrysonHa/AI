{
 "cells": [
  {
   "cell_type": "markdown",
   "id": "cb040ea2",
   "metadata": {},
   "source": [
    "#Question: What percentage of male first class passengers survived?"
   ]
  },
  {
   "cell_type": "code",
   "execution_count": 26,
   "id": "608c734d-acff-4f05-a23a-de75d8a2c766",
   "metadata": {},
   "outputs": [
    {
     "data": {
      "text/plain": [
       "'58.44155844155844%'"
      ]
     },
     "execution_count": 26,
     "metadata": {},
     "output_type": "execute_result"
    }
   ],
   "source": [
    "import pandas\n",
    "\n",
    "df = pandas.read_csv('titanic.csv')\n",
    "\n",
    "str(len(df[(df[\"Pclass\"] == 1) & (df[\"Sex\"] == \"male\") & (df[\"Survived\"] == 1)]) / len(df[(df[\"Pclass\"] == 1) & (df[\"Sex\"] == \"male\") & (df[\"Survived\"] == 0)]) * 100) + \"%\""
   ]
  },
  {
   "cell_type": "code",
   "execution_count": null,
   "id": "bf93ac44",
   "metadata": {},
   "outputs": [],
   "source": [
    "import pandas\n",
    "\n",
    "df = pandas.read_csv('titanic.csv')\n",
    "\n",
    "numSamples = df.shape[0]\n",
    "print(numSamples)\n",
    "\n",
    "print(df.iloc[14])\n",
    "print(\"\\n\\n\\nEmbarked From Queensland: \")\n",
    "\n",
    "print(df[df[\"Embarked\"] == \"Q\"])"
   ]
  }
 ],
 "metadata": {
  "kernelspec": {
   "display_name": "Python 3",
   "language": "python",
   "name": "python3"
  },
  "language_info": {
   "codemirror_mode": {
    "name": "ipython",
    "version": 3
   },
   "file_extension": ".py",
   "mimetype": "text/x-python",
   "name": "python",
   "nbconvert_exporter": "python",
   "pygments_lexer": "ipython3",
   "version": "3.13.7"
  }
 },
 "nbformat": 4,
 "nbformat_minor": 5
}
