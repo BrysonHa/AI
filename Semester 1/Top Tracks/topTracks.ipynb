{
 "cells": [
  {
   "cell_type": "markdown",
   "id": "84cb7bc8-ec5f-467e-8538-1a2104d39a40",
   "metadata": {},
   "source": [
    "Question: How many songs in Spotify's top songs 2024 USA were metal?\n",
    "\n",
    "This will be an observational study where I collect data from Spotify's top songs 2024 USA playlist and analyze that data to answer my question. I will examine the population, the whole playlist, for a better result.\n",
    "\n",
    "Ms. Spindt collected my data through analysis of Spotify's top songs 2024 playlists. A potential bias that my data may produce is inaccuracy due to limited data within the dataset. Another potential bias could be inaccurate genre identification by AI."
   ]
  },
  {
   "cell_type": "code",
   "execution_count": 4,
   "id": "bcb404e2-e7dc-4f06-90b1-33f05a7d3075",
   "metadata": {},
   "outputs": [],
   "source": [
    "import pandas\n",
    "import seaborn\n",
    "import matplotlib.pyplot as plt"
   ]
  },
  {
   "cell_type": "code",
   "execution_count": 5,
   "id": "026772ce-ae14-4f6f-8eb0-cec3dc3b43b6",
   "metadata": {},
   "outputs": [],
   "source": [
    "df = pandas.read_csv('topTracks.csv')"
   ]
  },
  {
   "cell_type": "code",
   "execution_count": 6,
   "id": "2ac3c78a-c1f7-4d0f-a787-6160783e32f7",
   "metadata": {},
   "outputs": [],
   "source": [
    "data = {\n",
    "    \"genre\": [],\n",
    "    \"count\": []\n",
    "}"
   ]
  },
  {
   "cell_type": "code",
   "execution_count": 7,
   "id": "21537409-f446-4c9d-95da-b84f60870319",
   "metadata": {},
   "outputs": [],
   "source": [
    "for genre in df.iloc[:, 4]:\n",
    "    if genre in data[\"genre\"]:\n",
    "        data[\"count\"][data[\"genre\"].index(genre)] += 1\n",
    "    else:\n",
    "        data[\"genre\"].append(genre)\n",
    "        data[\"count\"].append(1)"
   ]
  },
  {
   "cell_type": "code",
   "execution_count": 8,
   "id": "52029e71-f5c0-447b-9264-6e9f112ec99a",
   "metadata": {},
   "outputs": [
    {
     "name": "stdout",
     "output_type": "stream",
     "text": [
      "              genre  count\n",
      "0               Pop     16\n",
      "1           Hip-Hop      9\n",
      "2           Country     11\n",
      "3               R&B      5\n",
      "4          Pop Rock      1\n",
      "5        Indie Folk      3\n",
      "6  Alternative Rock      3\n",
      "7        Indie Rock      1\n",
      "8   Alternative Pop      1\n"
     ]
    }
   ],
   "source": [
    "freqTable = pandas.DataFrame(data)\n",
    "print(freqTable)"
   ]
  },
  {
   "cell_type": "code",
   "execution_count": 9,
   "id": "5174d3a4-68c6-4c7a-8f20-578e778b014e",
   "metadata": {},
   "outputs": [
    {
     "data": {
      "image/png": "[encoded data removed]",
      "text/plain": [
       "<Figure size 640x480 with 1 Axes>"
      ]
     },
     "metadata": {},
     "output_type": "display_data"
    }
   ],
   "source": [
    "seaborn.barplot(x = \"genre\", y = \"count\", data = freqTable)\n",
    "plt.show()"
   ]
  },
  {
   "cell_type": "markdown",
   "id": "e41d3fea",
   "metadata": {},
   "source": [
    "Based on the frequency chart 0 songs in Spotify's top songs 2024 USA were metal. There was not much data within my dataset and the genres were generated by AI so those two things could have caused biases during the study."
   ]
  }
 ],
 "metadata": {
  "kernelspec": {
   "display_name": "Python 3",
   "language": "python",
   "name": "python3"
  },
  "language_info": {
   "codemirror_mode": {
    "name": "ipython",
    "version": 3
   },
   "file_extension": ".py",
   "mimetype": "text/x-python",
   "name": "python",
   "nbconvert_exporter": "python",
   "pygments_lexer": "ipython3",
   "version": "3.13.7"
  }
 },
 "nbformat": 4,
 "nbformat_minor": 5
}
