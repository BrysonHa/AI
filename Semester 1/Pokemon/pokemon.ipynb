{
 "cells": [
  {
   "cell_type": "markdown",
   "id": "5d30cf28-b42c-401b-8516-f14874f18382",
   "metadata": {},
   "source": [
    "Question: How does the speed of Pikachu compare to the average speed of all Pokémon?\n",
    "\n",
    "To answer this question, I will conduct an observational study using data already collected. I will examine the entire population of generation one Pokemon for the most accurate results.\n",
    "\n",
    "My data was crowd-sourced, leading to some potential inaccuracies. My dataset has a complete set of generation one Pokémon, so there will be no biases produced from that. One bias I can see would be from the crowd-sourced data, potentially causing some inaccuracies."
   ]
  },
  {
   "cell_type": "code",
   "execution_count": 7,
   "id": "b345eea1-f462-416d-baa3-cde870005e44",
   "metadata": {},
   "outputs": [],
   "source": [
    "import pandas\n",
    "import seaborn as sns\n",
    "import matplotlib.pyplot as plt"
   ]
  },
  {
   "cell_type": "code",
   "execution_count": 8,
   "id": "1c64a273-96d9-4c47-92a2-b22c077b4903",
   "metadata": {},
   "outputs": [],
   "source": [
    "df = pandas.read_csv('pokemon.csv')\n",
    "#df = df[df[\"generation\"] == 1]"
   ]
  },
  {
   "cell_type": "code",
   "execution_count": 26,
   "id": "0dc54903-ad52-4c28-84c3-58ac9fd1f89c",
   "metadata": {},
   "outputs": [
    {
     "name": "stderr",
     "output_type": "stream",
     "text": [
      "/opt/conda/envs/anaconda-ai-2024.04-py310/lib/python3.10/site-packages/seaborn/_oldcore.py:1119: FutureWarning: use_inf_as_na option is deprecated and will be removed in a future version. Convert inf values to NaN before operating instead.\n",
      "  with pd.option_context('mode.use_inf_as_na', True):\n"
     ]
    },
    {
     "data": {
      "text/plain": [
       "<matplotlib.collections.PathCollection at 0x7e81ba0dd540>"
      ]
     },
     "execution_count": 26,
     "metadata": {},
     "output_type": "execute_result"
    },
    {
     "data": {
      "image/png": "[encoded data removed]",
      "text/plain": [
       "<Figure size 640x480 with 1 Axes>"
      ]
     },
     "metadata": {},
     "output_type": "display_data"
    }
   ],
   "source": [
    "histData = df['speed'].tolist()\n",
    "\n",
    "histplt = sns.histplot(histData, bins = 20)\n",
    "histplt.scatter(90, 0, color=\"red\", s=100, zorder=10, marker=\"X\") #Plot Pikachu's speed for easier analysis"
   ]
  },
  {
   "cell_type": "code",
   "execution_count": 10,
   "id": "585d143d-a328-4325-905e-eff111b2a134",
   "metadata": {},
   "outputs": [
    {
     "name": "stdout",
     "output_type": "stream",
     "text": [
      "Mean: 66.33458177278402\n",
      "Pikachu: 90\n"
     ]
    }
   ],
   "source": [
    "mean = df['speed'].mean()\n",
    "print(\"Mean: \" +str(mean))\n",
    "print(\"Pikachu: 90\")"
   ]
  },
  {
   "cell_type": "code",
   "execution_count": 30,
   "id": "f3ef6c12-8ba5-41b5-8983-92bc155c017f",
   "metadata": {},
   "outputs": [
    {
     "name": "stdout",
     "output_type": "stream",
     "text": [
      "40.0\n"
     ]
    }
   ],
   "source": [
    "iqr = df['speed'].quantile(0.75) - df['speed'].quantile(0.25)\n",
    "print(iqr)"
   ]
  },
  {
   "cell_type": "code",
   "execution_count": 13,
   "id": "0d3d8a47-f9fe-454a-819e-e36721bfe57b",
   "metadata": {
    "scrolled": true
   },
   "outputs": [
    {
     "data": {
      "text/plain": [
       "count    801.000000\n",
       "mean      66.334582\n",
       "std       28.907662\n",
       "min        5.000000\n",
       "25%       45.000000\n",
       "50%       65.000000\n",
       "75%       85.000000\n",
       "max      180.000000\n",
       "Name: speed, dtype: float64"
      ]
     },
     "execution_count": 13,
     "metadata": {},
     "output_type": "execute_result"
    }
   ],
   "source": [
    "df['speed'].describe()"
   ]
  },
  {
   "cell_type": "code",
   "execution_count": 25,
   "id": "3a2cbe87-2da7-42cd-b7c2-d6b400dd49d7",
   "metadata": {},
   "outputs": [
    {
     "data": {
      "text/plain": [
       "<matplotlib.collections.PathCollection at 0x7e81ba040d60>"
      ]
     },
     "execution_count": 25,
     "metadata": {},
     "output_type": "execute_result"
    },
    {
     "data": {
      "image/png": "[encoded data removed]",
      "text/plain": [
       "<Figure size 640x480 with 1 Axes>"
      ]
     },
     "metadata": {},
     "output_type": "display_data"
    }
   ],
   "source": [
    "bxplt = sns.boxplot(data = df, x = \"speed\")\n",
    "bxplt.scatter(90, 0, color=\"red\", s=100, zorder=10, marker=\"X\") #Plot Pikachu's speed for easier analysis"
   ]
  },
  {
   "cell_type": "markdown",
   "id": "6dbccfc7-412d-4de2-a408-eda6fa6b7d1c",
   "metadata": {},
   "source": [
    "Based on the research, Pikachu's speed is above average by 23.666 points. Based on the histogram, it is clear that Pikachu is within a large chunk of data, suggesting that Pikachu's speed is not an outlier. Furthermore, as seen on the histogram and the boxplot, Pikachu's speed is within 1.5 times the interquartile range, further suggesting that its speed is not an outlier, but rather just above average. Due to the crowdsourced nature of this data, there may be potential inaccuracies; however, given the large scale of the dataset, it is unlikely that these would significantly impact the outcome."
   ]
  },
  {
   "cell_type": "code",
   "execution_count": null,
   "id": "f27a6dd0-7b44-4e1b-9b31-042451502936",
   "metadata": {},
   "outputs": [],
   "source": []
  }
 ],
 "metadata": {
  "kernelspec": {
   "display_name": "anaconda-ai-2024.04-py310",
   "language": "python",
   "name": "conda-env-anaconda-ai-2024.04-py310-py"
  },
  "language_info": {
   "codemirror_mode": {
    "name": "ipython",
    "version": 3
   },
   "file_extension": ".py",
   "mimetype": "text/x-python",
   "name": "python",
   "nbconvert_exporter": "python",
   "pygments_lexer": "ipython3",
   "version": "3.10.13"
  }
 },
 "nbformat": 4,
 "nbformat_minor": 5
}
